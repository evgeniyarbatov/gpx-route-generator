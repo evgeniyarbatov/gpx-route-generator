{
 "cells": [
  {
   "cell_type": "code",
   "execution_count": 25,
   "id": "0a807d5d",
   "metadata": {},
   "outputs": [],
   "source": [
    "import csv\n",
    "import psycopg2\n",
    "\n",
    "from psycopg2 import sql\n",
    "import xml.etree.ElementTree as ET"
   ]
  },
  {
   "cell_type": "code",
   "execution_count": 20,
   "id": "3adce5bf",
   "metadata": {},
   "outputs": [],
   "source": [
    "conn = psycopg2.connect(\n",
    "    host=\"localhost\",\n",
    "    database=\"gpx\",\n",
    "    user=\"root\",\n",
    "    password=\"root\"\n",
    ")"
   ]
  },
  {
   "cell_type": "code",
   "execution_count": 18,
   "id": "96ec6e90",
   "metadata": {},
   "outputs": [],
   "source": [
    "def kml2csv(kml_path, csv_path):\n",
    "    with open(csv_path, mode='w') as csv_file:\n",
    "        csv_writer = csv.writer(csv_file)\n",
    "\n",
    "        tree = ET.parse(kml_path)\n",
    "        root = tree.getroot()\n",
    "\n",
    "        ns = {\"kml\": \"http://www.opengis.net/kml/2.2\"}\n",
    "        placemarks = root.findall(\".//kml:Placemark\", ns)\n",
    "\n",
    "        for placemark in placemarks:\n",
    "            name = placemark.find(\"kml:name\", ns)\n",
    "            if name is None:\n",
    "                continue\n",
    "\n",
    "            coords = placemark.find(\".//kml:coordinates\", ns)\n",
    "            if coords is None:\n",
    "                continue\n",
    "\n",
    "            points = coords.text.strip().split()\n",
    "            for point in points:\n",
    "                coordinates = point.split(\",\")\n",
    "\n",
    "                latitude = float(coordinates[1])\n",
    "                longitude = float(coordinates[0])\n",
    "\n",
    "                csv_writer.writerow([name.text, latitude, longitude])"
   ]
  },
  {
   "cell_type": "code",
   "execution_count": 15,
   "id": "ce6559af",
   "metadata": {},
   "outputs": [],
   "source": [
    "kml2csv('../user_data/points.kml', '../data/points.csv')\n",
    "kml2csv('../user_data/segments.kml', '../data/segments.csv')"
   ]
  },
  {
   "cell_type": "code",
   "execution_count": 56,
   "id": "c75491ce",
   "metadata": {},
   "outputs": [],
   "source": [
    "def csv2postgis(table_name, csv_path):\n",
    "    try:\n",
    "        cursor = conn.cursor()\n",
    "\n",
    "        create_table = f\"\"\"\n",
    "CREATE TABLE IF NOT EXISTS {table_name} (\n",
    "    id SERIAL PRIMARY KEY,\n",
    "    name VARCHAR(255),\n",
    "    latitude DECIMAL,\n",
    "    longitude DECIMAL\n",
    ");\n",
    "\"\"\"\n",
    "        cursor.execute(create_table)\n",
    "        conn.commit()\n",
    "\n",
    "        with open(csv_path, 'r', ) as csv_file:\n",
    "            reader = csv.reader(csv_file)\n",
    "            for row in reader:\n",
    "                (name, lat, lon) = row\n",
    "                \n",
    "                insert_query = f\"\"\"\n",
    "INSERT INTO {table_name} \n",
    "(name, latitude, longitude) \n",
    "VALUES ('{name}', {lat}, {lon});\n",
    "\"\"\"\n",
    "                cursor.execute(\n",
    "                    insert_query\n",
    "                )\n",
    "                conn.commit()\n",
    "                \n",
    "    except Exception as e:\n",
    "        print(f'Error: {e}')\n",
    "        conn.rollback()"
   ]
  },
  {
   "cell_type": "code",
   "execution_count": 58,
   "id": "1bd1834d",
   "metadata": {},
   "outputs": [],
   "source": [
    "csv2postgis('points', '../data/points.csv')\n",
    "csv2postgis('segments', '../data/segments.csv')"
   ]
  }
 ],
 "metadata": {
  "kernelspec": {
   "display_name": "Python 3 (ipykernel)",
   "language": "python",
   "name": "python3"
  },
  "language_info": {
   "codemirror_mode": {
    "name": "ipython",
    "version": 3
   },
   "file_extension": ".py",
   "mimetype": "text/x-python",
   "name": "python",
   "nbconvert_exporter": "python",
   "pygments_lexer": "ipython3",
   "version": "3.11.9"
  }
 },
 "nbformat": 4,
 "nbformat_minor": 5
}
